{
  "nbformat": 4,
  "nbformat_minor": 0,
  "metadata": {
    "colab": {
      "provenance": [],
      "authorship_tag": "ABX9TyPWE67XfbX/udpDcV67/gtb",
      "include_colab_link": true
    },
    "kernelspec": {
      "name": "python3",
      "display_name": "Python 3"
    },
    "language_info": {
      "name": "python"
    }
  },
  "cells": [
    {
      "cell_type": "markdown",
      "metadata": {
        "id": "view-in-github",
        "colab_type": "text"
      },
      "source": [
        "<a href=\"https://colab.research.google.com/github/Macedovin/ampli.EngSoft_LingProgram/blob/main/Unidade_1/Aula_1/Praticando.ipynb\" target=\"_parent\"><img src=\"https://colab.research.google.com/assets/colab-badge.svg\" alt=\"Open In Colab\"/></a>"
      ]
    },
    {
      "cell_type": "markdown",
      "source": [
        "Minha solução:"
      ],
      "metadata": {
        "id": "SI64Y0nKAAOc"
      }
    },
    {
      "cell_type": "code",
      "execution_count": 5,
      "metadata": {
        "colab": {
          "base_uri": "https://localhost:8080/"
        },
        "id": "VQBUzZHm_LAp",
        "outputId": "c23dfa20-976c-45a3-ec09-c09d93764d20"
      },
      "outputs": [
        {
          "output_type": "stream",
          "name": "stdout",
          "text": [
            "Digite um mês: 30\n",
            "O resultado no mês 30 é 6000.\n"
          ]
        }
      ],
      "source": [
        "c = 200\n",
        "\n",
        "mes = input(\"Digite um mês: \")\n",
        "\n",
        "mes = int(mes)\n",
        "\n",
        "resultado = c * mes\n",
        "\n",
        "print(f\"O resultado no mês {mes} é {resultado}.\")"
      ]
    },
    {
      "cell_type": "code",
      "source": [],
      "metadata": {
        "id": "S_9VLkYfAhJD"
      },
      "execution_count": null,
      "outputs": []
    },
    {
      "cell_type": "markdown",
      "source": [
        "Solução dada pela disciplina:"
      ],
      "metadata": {
        "id": "AS5xNqKOAOQ7"
      }
    },
    {
      "cell_type": "code",
      "source": [
        "c = 200 # valor da constante\n",
        "\n",
        "mes = input(\"Digite o mês que deseja saber o resultado: \") # Função para captura o mês que o cliente digitar\n",
        "\n",
        "mes = int(mes) # Não esqueça de converter para numérico o valor captura pela função input()\n",
        "\n",
        "r = c * mes # Equação do primeiro grau, também chamada função do primeiro grau ou de função linear.\n",
        "\n",
        "print(f\"A quantidade de peças para o mês {mes} será {r}\") # Impressão do resultado usando string interpolada \"f-strings\" (PEP 498)"
      ],
      "metadata": {
        "colab": {
          "base_uri": "https://localhost:8080/"
        },
        "id": "BhyOQ_6yARxr",
        "outputId": "ac6549b0-abc7-41f8-a0e4-fb29ebcd3c22"
      },
      "execution_count": 4,
      "outputs": [
        {
          "output_type": "stream",
          "name": "stdout",
          "text": [
            "Digite o mês que deseja saber o resultado: 30\n",
            "A quantidade de peças para o mês 30 será 6000\n"
          ]
        }
      ]
    }
  ]
}