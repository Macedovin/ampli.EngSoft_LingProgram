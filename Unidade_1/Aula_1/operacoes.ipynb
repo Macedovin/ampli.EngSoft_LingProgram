{
  "nbformat": 4,
  "nbformat_minor": 0,
  "metadata": {
    "colab": {
      "provenance": [],
      "toc_visible": true,
      "authorship_tag": "ABX9TyMyQPGMrEuQwg0GlRjZiWth",
      "include_colab_link": true
    },
    "kernelspec": {
      "name": "python3",
      "display_name": "Python 3"
    },
    "language_info": {
      "name": "python"
    }
  },
  "cells": [
    {
      "cell_type": "markdown",
      "metadata": {
        "id": "view-in-github",
        "colab_type": "text"
      },
      "source": [
        "<a href=\"https://colab.research.google.com/github/Macedovin/ampli.EngSoft_LingProgram/blob/main/Unidade_1/Aula_1/operacoes.ipynb\" target=\"_parent\"><img src=\"https://colab.research.google.com/assets/colab-badge.svg\" alt=\"Open In Colab\"/></a>"
      ]
    },
    {
      "cell_type": "markdown",
      "source": [
        "## Operações matemáticas\n"
      ],
      "metadata": {
        "id": "gb5kHKHhAuPa"
      }
    },
    {
      "cell_type": "code",
      "source": [
        "# Qual o resultado armazendo na variável operacao_1: 25 ou 17?\n",
        "operacao_1 = 2 + 3 * 5\n",
        "\n",
        "# Qual o resultado armazendo na variável operacao_2: 25 ou 17?\n",
        "operacao_2 = (2 + 3) * 5\n",
        "\n",
        "# Qual o resultado armazendo na variável operacao_3: 4 ou 1?\n",
        "operacao_3 = 4 / 2 ** 2\n",
        "\n",
        "# Qual o resultado armazendo na variável operacao_4: 1 ou 5?\n",
        "operacao_4 = 13 % 3 + 4\n",
        "\n",
        "print(f\"Resultado em operacao_1 = {operacao_1}\")\n",
        "print(f\"Resultado em operacao_2 = {operacao_2}\")\n",
        "print(f\"Resultado em operacao_3 = {operacao_3}\")\n",
        "print(f\"Resultado em operacao_4 = {operacao_4}\")\n",
        "\n",
        "# Qual o resultado armazendo na variável operacao_5: 10 ou 2.5?\n",
        "operacao_5 = 10 / 2 * 2\n",
        "\n",
        "# Qual o resultado armazendo na variável operacao_6: 10 ou 2.5?\n",
        "operacao_6 = 10 / (2 * 2)\n",
        "\n",
        "# Qual o resultado armazendo na variável operacao_7: ...?\n",
        "operacao_7 = 10 / pow(2, 3)\n",
        "\n",
        "print(f\"Resultado em operacao_5 = {operacao_5}\")\n",
        "print(f\"Resultado em operacao_6 = {operacao_6}\")\n",
        "print(f\"Resultado em operacao_7 = {operacao_7}\")\n",
        "\n",
        "# Qual o resultado armazendo nas variáveis das operações a seguir entre 10 e 8?\n",
        "print(\"Operações teste entre 10 e 8:\")\n",
        "\n",
        "operacao_8 = 10 % 8\n",
        "\n",
        "operacao_9 = 10 / 8\n",
        "\n",
        "operacao_10 = 10 // 8\n",
        "\n",
        "print(f\"Resultado em operacao_8 = {operacao_8} - Resto da divisão\")\n",
        "print(f\"Resultado em operacao_9 = {operacao_9} - Divisão\")\n",
        "print(f\"Resultado em operacao_10 = {operacao_10} - Divisão inteira\")"
      ],
      "metadata": {
        "colab": {
          "base_uri": "https://localhost:8080/"
        },
        "id": "TSyxlEsQAyx6",
        "outputId": "0b01f7b0-8d19-4317-cfdf-407017cf6b24"
      },
      "execution_count": null,
      "outputs": [
        {
          "output_type": "stream",
          "name": "stdout",
          "text": [
            "Resultado em operacao_1 = 17\n",
            "Resultado em operacao_2 = 25\n",
            "Resultado em operacao_3 = 1.0\n",
            "Resultado em operacao_4 = 5\n",
            "Resultado em operacao_5 = 10.0\n",
            "Resultado em operacao_6 = 2.5\n",
            "Resultado em operacao_7 = 1.25\n",
            "Operações teste entre 10 e 8:\n",
            "Resultado em operacao_8 = 2 - Resto da divisão\n",
            "Resultado em operacao_9 = 1.25 - Divisão\n",
            "Resultado em operacao_10 = 1 - Divisão inteira\n"
          ]
        }
      ]
    },
    {
      "cell_type": "code",
      "source": [
        "a = 2\n",
        "\n",
        "b = 0.5\n",
        "\n",
        "c = 1\n",
        "\n",
        "x = input(\"Digite o valor de x: \")\n",
        "\n",
        "y = a * x ** 2 + b * x + c\n",
        "\n",
        "print(f\"O resultado de y para x = {x} é {y}.\")"
      ],
      "metadata": {
        "colab": {
          "base_uri": "https://localhost:8080/",
          "height": 228
        },
        "id": "Wk-2HCD7rH9z",
        "outputId": "c6d6ed07-25fe-48a8-8324-e9202d2953e1"
      },
      "execution_count": null,
      "outputs": [
        {
          "name": "stdout",
          "output_type": "stream",
          "text": [
            "Digite o valor de x: 3\n"
          ]
        },
        {
          "output_type": "error",
          "ename": "TypeError",
          "evalue": "unsupported operand type(s) for ** or pow(): 'str' and 'int'",
          "traceback": [
            "\u001b[0;31m---------------------------------------------------------------------------\u001b[0m",
            "\u001b[0;31mTypeError\u001b[0m                                 Traceback (most recent call last)",
            "\u001b[0;32m<ipython-input-2-8d200a5a181f>\u001b[0m in \u001b[0;36m<cell line: 0>\u001b[0;34m()\u001b[0m\n\u001b[1;32m      7\u001b[0m \u001b[0mx\u001b[0m \u001b[0;34m=\u001b[0m \u001b[0minput\u001b[0m\u001b[0;34m(\u001b[0m\u001b[0;34m\"Digite o valor de x: \"\u001b[0m\u001b[0;34m)\u001b[0m\u001b[0;34m\u001b[0m\u001b[0;34m\u001b[0m\u001b[0m\n\u001b[1;32m      8\u001b[0m \u001b[0;34m\u001b[0m\u001b[0m\n\u001b[0;32m----> 9\u001b[0;31m \u001b[0my\u001b[0m \u001b[0;34m=\u001b[0m \u001b[0ma\u001b[0m \u001b[0;34m*\u001b[0m \u001b[0mx\u001b[0m \u001b[0;34m**\u001b[0m \u001b[0;36m2\u001b[0m \u001b[0;34m+\u001b[0m \u001b[0mb\u001b[0m \u001b[0;34m*\u001b[0m \u001b[0mx\u001b[0m \u001b[0;34m+\u001b[0m \u001b[0mc\u001b[0m\u001b[0;34m\u001b[0m\u001b[0;34m\u001b[0m\u001b[0m\n\u001b[0m\u001b[1;32m     10\u001b[0m \u001b[0;34m\u001b[0m\u001b[0m\n\u001b[1;32m     11\u001b[0m \u001b[0mprint\u001b[0m\u001b[0;34m(\u001b[0m\u001b[0;34mf\"O resultado de y para x = {x} é {y}.\"\u001b[0m\u001b[0;34m)\u001b[0m\u001b[0;34m\u001b[0m\u001b[0;34m\u001b[0m\u001b[0m\n",
            "\u001b[0;31mTypeError\u001b[0m: unsupported operand type(s) for ** or pow(): 'str' and 'int'"
          ]
        }
      ]
    },
    {
      "cell_type": "markdown",
      "source": [
        "Verificando os \"tipos\" das \"variáveis\" -> Entendendo o ERRO"
      ],
      "metadata": {
        "id": "pVRShC6Bqr25"
      }
    },
    {
      "cell_type": "code",
      "source": [
        "print(type(a))\n",
        "print(type(b))\n",
        "print(type(c))\n",
        "print(type(x))"
      ],
      "metadata": {
        "colab": {
          "base_uri": "https://localhost:8080/"
        },
        "id": "Ht_NVucvZgXm",
        "outputId": "b3124b1b-e851-4eaa-905f-5d9dbc87f5a4"
      },
      "execution_count": null,
      "outputs": [
        {
          "output_type": "stream",
          "name": "stdout",
          "text": [
            "<class 'int'>\n",
            "<class 'float'>\n",
            "<class 'int'>\n",
            "<class 'str'>\n"
          ]
        }
      ]
    },
    {
      "cell_type": "markdown",
      "source": [
        "Fazendo a correção"
      ],
      "metadata": {
        "id": "eope19zlhY1f"
      }
    },
    {
      "cell_type": "code",
      "source": [
        "a = 2\n",
        "\n",
        "b = 0.5\n",
        "\n",
        "c = 1\n",
        "\n",
        "x = input(\"Digite o valor de x: \")\n",
        "\n",
        "\n",
        "x = float(x.replace(\",\", \".\")) # aqui fazemos a conversão da string para o tipo numérico\n",
        "\n",
        "# O método de string \"str.replace()\", mais avançado, ajuda a evitar o mesmo erro\n",
        "\n",
        "y = a * x ** 2 + b * x + c\n",
        "\n",
        "\n",
        "print(f\"O resultado de y para x = {x} é {y}.\")"
      ],
      "metadata": {
        "colab": {
          "base_uri": "https://localhost:8080/"
        },
        "id": "0IeT_EAXhYB3",
        "outputId": "d802fa34-522c-4f76-ee1e-73690a3b9cf7"
      },
      "execution_count": null,
      "outputs": [
        {
          "output_type": "stream",
          "name": "stdout",
          "text": [
            "Digite o valor de x: 3,5\n",
            "O resultado de y para x = 3.5 é 27.25.\n"
          ]
        }
      ]
    }
  ]
}