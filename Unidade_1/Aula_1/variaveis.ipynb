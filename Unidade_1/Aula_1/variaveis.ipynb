{
  "nbformat": 4,
  "nbformat_minor": 0,
  "metadata": {
    "colab": {
      "provenance": [],
      "toc_visible": true,
      "mount_file_id": "1BFv91xmfYo3kdiW-2tm_L2G_yt0HxFFd",
      "authorship_tag": "ABX9TyPbG5os+OSV/afpukXzgLxw",
      "include_colab_link": true
    },
    "kernelspec": {
      "name": "python3",
      "display_name": "Python 3"
    },
    "language_info": {
      "name": "python"
    }
  },
  "cells": [
    {
      "cell_type": "markdown",
      "metadata": {
        "id": "view-in-github",
        "colab_type": "text"
      },
      "source": [
        "<a href=\"https://colab.research.google.com/github/Macedovin/ampli.EngSoft_LingProgram/blob/main/Unidade_1/Aula_1/variaveis.ipynb\" target=\"_parent\"><img src=\"https://colab.research.google.com/assets/colab-badge.svg\" alt=\"Open In Colab\"/></a>"
      ]
    },
    {
      "cell_type": "markdown",
      "source": [
        "## Variáveis e tipos básicos"
      ],
      "metadata": {
        "id": "jhTQJ0IkAiFq"
      }
    },
    {
      "cell_type": "markdown",
      "source": [
        "Variáveis são tipadas dinamicamente"
      ],
      "metadata": {
        "id": "TxDl6-kXZ95K"
      }
    },
    {
      "cell_type": "code",
      "execution_count": null,
      "metadata": {
        "id": "U81oWWYUi_0F"
      },
      "outputs": [],
      "source": [
        "x = 10\n",
        "\n",
        "nome = 'aluno'\n",
        "\n",
        "nota = 8.75\n",
        "\n",
        "fez_inscricao = True"
      ]
    },
    {
      "cell_type": "markdown",
      "source": [
        "Alguns \"tipos\" de \"dados\" em Python\n",
        "\n"
      ],
      "metadata": {
        "id": "N9_l87m2h_Z5"
      }
    },
    {
      "cell_type": "code",
      "source": [
        "print(type(x))\n",
        "\n",
        "print(type(nome))\n",
        "\n",
        "print(type(nota))\n",
        "\n",
        "print(type(fez_inscricao))"
      ],
      "metadata": {
        "colab": {
          "base_uri": "https://localhost:8080/"
        },
        "id": "RAKqqyWza-qR",
        "outputId": "4a6deb9c-af22-4ba3-a723-5326c117247f"
      },
      "execution_count": null,
      "outputs": [
        {
          "output_type": "stream",
          "name": "stdout",
          "text": [
            "<class 'int'>\n",
            "<class 'str'>\n",
            "<class 'float'>\n",
            "<class 'bool'>\n"
          ]
        }
      ]
    },
    {
      "cell_type": "markdown",
      "source": [
        "Mais alguns \"tipos de dados\" -> Pesquisa e teste"
      ],
      "metadata": {
        "id": "HgzytU7aiPho"
      }
    },
    {
      "cell_type": "code",
      "source": [
        "a = 5+2j\n",
        "b = 20+6j\n",
        "\n",
        "print(type(a))\n",
        "print(type(b))\n",
        "\n",
        "print(complex(7, 3))\n",
        "\n",
        "alunos = ['Amanda', 'Ana', 'Bruno', 'João']\n",
        "notas = [10, 8.5, 7.8, 8.0]\n",
        "\n",
        "print(type(alunos))\n",
        "print(type(notas))\n",
        "\n",
        "mais_notas = 10, 8.5, 7.8, 8.0\n",
        "\n",
        "print(type(mais_notas))\n",
        "\n",
        "valores = (90, 79, 54, 32, 21)\n",
        "\n",
        "print(type(valores))\n",
        "\n",
        "altura = {'Amanda': 1.65, 'Ana': 1.60, 'João': 1.70}\n",
        "peso = {'Amanda': 60, 'Ana': 58, 'João': 68, 'pessoas': True, 'quantas':3}\n",
        "\n",
        "print(type(altura))\n",
        "print(type(peso))"
      ],
      "metadata": {
        "colab": {
          "base_uri": "https://localhost:8080/"
        },
        "id": "fN84mgjZiOFw",
        "outputId": "31feedb2-4727-4d45-9e40-d0aa8ae74c5f"
      },
      "execution_count": null,
      "outputs": [
        {
          "output_type": "stream",
          "name": "stdout",
          "text": [
            "<class 'complex'>\n",
            "<class 'complex'>\n",
            "(7+3j)\n",
            "<class 'list'>\n",
            "<class 'list'>\n",
            "<class 'tuple'>\n",
            "<class 'tuple'>\n",
            "<class 'dict'>\n",
            "<class 'dict'>\n"
          ]
        }
      ]
    },
    {
      "cell_type": "markdown",
      "source": [
        "Função \"input()\""
      ],
      "metadata": {
        "id": "lDX1vu3JkUO4"
      }
    },
    {
      "cell_type": "code",
      "source": [
        "nome = input(\"Digite um nome: \")\n",
        "\n",
        "print(nome)"
      ],
      "metadata": {
        "colab": {
          "base_uri": "https://localhost:8080/"
        },
        "id": "1jKW4WCFkXb3",
        "outputId": "ecf9cc75-18dd-44c8-8ade-0d20804b8b2e"
      },
      "execution_count": null,
      "outputs": [
        {
          "output_type": "stream",
          "name": "stdout",
          "text": [
            "Digite um nome: Vinicius\n",
            "Vinicius\n"
          ]
        }
      ]
    },
    {
      "cell_type": "markdown",
      "source": [
        "Utilizando \"variável\" e \"Texto\""
      ],
      "metadata": {
        "id": "lnHlZ2iywy1W"
      }
    },
    {
      "cell_type": "code",
      "source": [
        "# Minha tentativa\n",
        "\n",
        "print(\"Olá,\" , nome,\"! Bem-vindo à disciplina de programação. Parabéns pelo seu primeiro 'hello world'\")"
      ],
      "metadata": {
        "colab": {
          "base_uri": "https://localhost:8080/"
        },
        "id": "MDI_nrk_skmH",
        "outputId": "e2ad43b0-2aa4-416c-80e1-a084e9a7a87a"
      },
      "execution_count": null,
      "outputs": [
        {
          "output_type": "stream",
          "name": "stdout",
          "text": [
            "Olá, Vinicius ! Bem-vindo à disciplina de programação. Parabéns pelo seu primeiro 'hello world'\n"
          ]
        }
      ]
    },
    {
      "cell_type": "markdown",
      "source": [
        "**Modo 1** - usando formatadores de caracteres (igual na linguagem C) para imprimir variável e texto"
      ],
      "metadata": {
        "id": "VlBqSoxWxKd9"
      }
    },
    {
      "cell_type": "code",
      "source": [
        " # Formatadores de caracteres\n",
        "\n",
        " print(\"Olá, %s! Bem vindo a disciplina de programação. Parabéns pelo seu primeiro hello world!\" % (nome))"
      ],
      "metadata": {
        "colab": {
          "base_uri": "https://localhost:8080/"
        },
        "id": "qxVGeYiNxCEV",
        "outputId": "4c540e54-091c-4fa1-d785-88683f7fc1ed"
      },
      "execution_count": null,
      "outputs": [
        {
          "output_type": "stream",
          "name": "stdout",
          "text": [
            "Olá, Vinicius! Bem vindo a disciplina de programação. Parabéns pelo seu primeiro hello world!\n"
          ]
        }
      ]
    },
    {
      "cell_type": "markdown",
      "source": [
        "**Modo 2** - usando a função format() para imprimir variável e texto"
      ],
      "metadata": {
        "id": "SwCwgZGmxbDl"
      }
    },
    {
      "cell_type": "code",
      "source": [
        "# Função format()\n",
        "\n",
        "print(\"Olá, {}! Bem vindo a disciplina de programação. Parabéns pelo seu primeiro hello world!\".format(nome))"
      ],
      "metadata": {
        "colab": {
          "base_uri": "https://localhost:8080/"
        },
        "id": "peilG36Ixpf6",
        "outputId": "476f83c0-9c50-4e05-8279-5e0d02dba898"
      },
      "execution_count": null,
      "outputs": [
        {
          "output_type": "stream",
          "name": "stdout",
          "text": [
            "Olá, Vinicius! Bem vindo a disciplina de programação. Parabéns pelo seu primeiro hello world!\n"
          ]
        }
      ]
    },
    {
      "cell_type": "markdown",
      "source": [
        "**Modo 3** - usando strings formatadas"
      ],
      "metadata": {
        "id": "TDbgGYfVyJ6N"
      }
    },
    {
      "cell_type": "code",
      "source": [
        "# Strings formatadas\n",
        "\n",
        "print(f\"Olá, {nome}! Bem vindo a disciplina de programação. Parabéns pelo seu primeiro hello world!\")"
      ],
      "metadata": {
        "colab": {
          "base_uri": "https://localhost:8080/"
        },
        "id": "hBl-4s10yOcd",
        "outputId": "18f96bbb-167b-4fb4-c7bd-b510312b044d"
      },
      "execution_count": null,
      "outputs": [
        {
          "output_type": "stream",
          "name": "stdout",
          "text": [
            "Olá, Vinicius! Bem vindo a disciplina de programação. Parabéns pelo seu primeiro hello world!\n"
          ]
        }
      ]
    },
    {
      "cell_type": "markdown",
      "source": [
        "### \"Modo 3\" é o indicado\n",
        "\n",
        "- As chamadas\n",
        "\n",
        "> \"f-strings\""
      ],
      "metadata": {
        "id": "fk6ydoOW9kri"
      }
    }
  ]
}