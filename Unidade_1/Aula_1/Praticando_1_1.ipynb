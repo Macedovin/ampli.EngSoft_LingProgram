{
  "nbformat": 4,
  "nbformat_minor": 0,
  "metadata": {
    "colab": {
      "provenance": [],
      "authorship_tag": "ABX9TyNyR2mTKDApcF4taI5/OIk2",
      "include_colab_link": true
    },
    "kernelspec": {
      "name": "python3",
      "display_name": "Python 3"
    },
    "language_info": {
      "name": "python"
    }
  },
  "cells": [
    {
      "cell_type": "markdown",
      "metadata": {
        "id": "view-in-github",
        "colab_type": "text"
      },
      "source": [
        "<a href=\"https://colab.research.google.com/github/Macedovin/ampli.EngSoft_LingProgram/blob/main/Unidade_1/Aula_1/Praticando_1_1.ipynb\" target=\"_parent\"><img src=\"https://colab.research.google.com/assets/colab-badge.svg\" alt=\"Open In Colab\"/></a>"
      ]
    },
    {
      "cell_type": "markdown",
      "source": [
        "Calcular as \"vendas\" em um \"mês\";\n",
        "  \n",
        "- De acordo com os;\n",
        "\n",
        "> \"Dados da tabela\";\n",
        "\n",
        "Abaixo"
      ],
      "metadata": {
        "id": "AQraw12OTfjo"
      }
    },
    {
      "cell_type": "markdown",
      "source": [
        "![image.png](data:image/png;base64,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)"
      ],
      "metadata": {
        "id": "hdIEYSfWUDrQ"
      }
    },
    {
      "cell_type": "markdown",
      "source": [
        "Minha solução:"
      ],
      "metadata": {
        "id": "SI64Y0nKAAOc"
      }
    },
    {
      "cell_type": "code",
      "execution_count": null,
      "metadata": {
        "colab": {
          "base_uri": "https://localhost:8080/"
        },
        "id": "VQBUzZHm_LAp",
        "outputId": "c23dfa20-976c-45a3-ec09-c09d93764d20"
      },
      "outputs": [
        {
          "output_type": "stream",
          "name": "stdout",
          "text": [
            "Digite um mês: 30\n",
            "O resultado no mês 30 é 6000.\n"
          ]
        }
      ],
      "source": [
        "c = 200\n",
        "\n",
        "mes = input(\"Digite um mês: \")\n",
        "\n",
        "mes = int(mes)\n",
        "\n",
        "resultado = c * mes\n",
        "\n",
        "print(f\"O resultado no mês {mes} é {resultado}.\")"
      ]
    },
    {
      "cell_type": "markdown",
      "source": [
        "Solução dada pela disciplina:"
      ],
      "metadata": {
        "id": "AS5xNqKOAOQ7"
      }
    },
    {
      "cell_type": "code",
      "source": [
        "c = 200 # valor da constante\n",
        "\n",
        "mes = input(\"Digite o mês que deseja saber o resultado: \") # Função para captura o mês que o cliente digitar\n",
        "\n",
        "mes = int(mes) # Não esqueça de converter para numérico o valor captura pela função input()\n",
        "\n",
        "r = c * mes # Equação do primeiro grau, também chamada função do primeiro grau ou de função linear.\n",
        "\n",
        "print(f\"A quantidade de peças para o mês {mes} será {r}\") # Impressão do resultado usando string interpolada \"f-strings\" (PEP 498)"
      ],
      "metadata": {
        "colab": {
          "base_uri": "https://localhost:8080/"
        },
        "id": "BhyOQ_6yARxr",
        "outputId": "ac6549b0-abc7-41f8-a0e4-fb29ebcd3c22"
      },
      "execution_count": null,
      "outputs": [
        {
          "output_type": "stream",
          "name": "stdout",
          "text": [
            "Digite o mês que deseja saber o resultado: 30\n",
            "A quantidade de peças para o mês 30 será 6000\n"
          ]
        }
      ]
    }
  ]
}